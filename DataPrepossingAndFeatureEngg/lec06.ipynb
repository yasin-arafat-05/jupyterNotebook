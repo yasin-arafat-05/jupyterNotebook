{
 "cells": [
  {
   "cell_type": "markdown",
   "metadata": {},
   "source": [
    "\n",
    "### [Video Link](https://www.youtube.com/watch?v=FdKGR22jF_k&list=PLfP3JxW-T70GR0w3zVzG7tgIFI14FZxaj&index=6)"
   ]
  }
 ],
 "metadata": {
  "language_info": {
   "name": "python"
  }
 },
 "nbformat": 4,
 "nbformat_minor": 2
}
