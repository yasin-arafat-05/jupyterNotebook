{
 "cells": [
  {
   "cell_type": "markdown",
   "metadata": {},
   "source": [
    "# Feature Engineering"
   ]
  },
  {
   "cell_type": "markdown",
   "metadata": {},
   "source": [
    "### [2ND VIDEO](https://www.youtube.com/watch?v=hfJWphQGWrs&list=PLfP3JxW-T70GR0w3zVzG7tgIFI14FZxaj&index=2)"
   ]
  },
  {
   "cell_type": "markdown",
   "metadata": {},
   "source": [
    "- **Feature** is an attribue or property shared by all of the independent units on which analysis or prediction is to be done.\n",
    "\n",
    "- **Feature Engineering** is the process to create feature/extract the feature from existing features by domain knowledge to increase the performance of Machine Learning Model.\n",
    "\n",
    "- **Feature Engineering** is an art."
   ]
  },
  {
   "cell_type": "markdown",
   "metadata": {},
   "source": [
    "### Why is Feature Engineering Important?\n",
    "- Quality data always help ot improve the accuracy and performance of Machine Learning model.\n",
    "- Machine Learning algorithm follow hte rule(Learn Like Kids)\n",
    "\n",
    "<br>\n",
    "<br>\n",
    "\n",
    "### What are the process of Feature Engineering?\n",
    "\n",
    "- Major Process of Feature Engineering:\n",
    "    - Brainstorming or testing features\n",
    "    - Deciding what features to create\n",
    "    - Creating features\n",
    "    - Checking how the features work with your model\n",
    "    - Improving your features if needed\n",
    "    - Go back to brainstorming/creating more features until the work is done."
   ]
  }
 ],
 "metadata": {
  "language_info": {
   "name": "python"
  }
 },
 "nbformat": 4,
 "nbformat_minor": 2
}
