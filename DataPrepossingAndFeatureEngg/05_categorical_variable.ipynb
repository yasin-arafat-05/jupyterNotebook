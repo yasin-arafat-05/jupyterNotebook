{
 "cells": [
  {
   "cell_type": "markdown",
   "metadata": {},
   "source": [
    "# Categorical Variables \n",
    "\n",
    "### [Video Link](https://www.youtube.com/watch?v=I9VFnAA2i1o&list=PLfP3JxW-T70GR0w3zVzG7tgIFI14FZxaj&index=5)"
   ]
  },
  {
   "cell_type": "markdown",
   "metadata": {},
   "source": [
    "\n",
    "### What is Categorial Variable?\n",
    "- The values of a categorical variable are selected from a group of categories, also called labels.\n",
    "\n",
    "We create a group and then we give a label in this group. like (70-80) who gain this number we give a label A+; \n",
    "\n",
    "- Categorical\n",
    "    - Ordinal\n",
    "    - Nominal\n",
    "\n",
    "\n",
    "### What is Ordinal Variables?\n",
    "- **Ordinal variables** are categorical variable in which the categories can be meaningfully ordered.\n",
    "- When the ordinal varible convert into the number then it has mathematical value.\n",
    "- Ex. Rating of product.\n",
    "<br>\n",
    "<br>\n",
    "### What is Nominal Variables?\n",
    "- **Nominal variable** is same like ordinal variable but there is nothing that indicates an intrinsic order of the labels ans in principle.\n",
    "- All labels are equal\n",
    "- No mathematical value\n",
    "- Ex. Colour: Red, Green, White, Black"
   ]
  }
 ],
 "metadata": {
  "language_info": {
   "name": "python"
  }
 },
 "nbformat": 4,
 "nbformat_minor": 2
}
