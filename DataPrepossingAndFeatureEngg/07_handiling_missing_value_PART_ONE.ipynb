{
 "cells": [
  {
   "cell_type": "markdown",
   "metadata": {},
   "source": [
    "\n",
    "<br>  <br>\n",
    "\n",
    "# Basic:\n",
    "\n",
    "<br> <br>\n",
    "\n",
    "\n",
    "[VideoLink](https://www.youtube.com/watch?v=cN3i8ktEg54&list=PLfP3JxW-T70GR0w3zVzG7tgIFI14FZxaj&index=7&ab_channel=IndianAIProduction)"
   ]
  }
 ],
 "metadata": {
  "language_info": {
   "name": "python"
  }
 },
 "nbformat": 4,
 "nbformat_minor": 2
}
