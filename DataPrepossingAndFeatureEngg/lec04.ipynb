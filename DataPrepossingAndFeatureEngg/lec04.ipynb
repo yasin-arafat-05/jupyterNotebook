{
 "cells": [
  {
   "cell_type": "markdown",
   "metadata": {},
   "source": [
    "# Numerical variables\n",
    "\n",
    "### [Video Link](https://www.youtube.com/watch?v=qWmEHzW3kzQ&list=PLfP3JxW-T70GR0w3zVzG7tgIFI14FZxaj&index=4)"
   ]
  },
  {
   "cell_type": "markdown",
   "metadata": {},
   "source": [
    "### What is Numerical Variable?\n",
    "\n",
    "- A Numerical Variable is a variable where the measurement or number has a numerical meaning.\n",
    "Example: age-23, weightInKg-92.2\n",
    "\n",
    "<br>\n",
    "\n",
    "#### Numeric\n",
    "- Discrete\n",
    "- Continous\n",
    "\n",
    "<br>\n",
    "\n",
    "### What is Discrete variable\n",
    "- The value which can be counted as whole value(fixed) called as discrete variable.\n",
    "Example: 1,2,3,45  (Integer Value)\n",
    "<br>\n",
    "### What is Continuous Variable?\n",
    "- The value contain range, measurements called as continuous variable.\n",
    "Example: 1.3,1.5,4.6 (Floating Value) \n",
    "\n",
    "- **Weight in KG** **Temperature** **Percentage**"
   ]
  }
 ],
 "metadata": {
  "language_info": {
   "name": "python"
  }
 },
 "nbformat": 4,
 "nbformat_minor": 2
}
