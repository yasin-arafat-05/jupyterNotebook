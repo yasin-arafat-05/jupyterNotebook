{
 "cells": [
  {
   "cell_type": "markdown",
   "metadata": {},
   "source": [
    "# Types of Variables:\n",
    "\n",
    "### [Video Link](https://www.youtube.com/watch?v=wsrt-Jwd5dY&list=PLfP3JxW-T70GR0w3zVzG7tgIFI14FZxaj&index=3&pp=iAQB)\n"
   ]
  },
  {
   "cell_type": "markdown",
   "metadata": {},
   "source": [
    "### What is Variable?\n",
    "- A variable is any characeristic, number or quantity that can be measured or counted.\n",
    "\n",
    "##### Variables\n",
    "- Numerical\n",
    "    - Discrete\n",
    "    - Continuous\n",
    "- Categorical\n",
    "    - Ordinal\n",
    "    - Nominal\n",
    "- Dates and Times\n",
    "- Mixed"
   ]
  },
  {
   "cell_type": "markdown",
   "metadata": {},
   "source": [
    "# Why we need to know the variables and it's types?\n",
    "\n",
    "For example, We have a data set in this data set we have some value that are missing or NaN . We need to fill the value in this case we need to know the data type."
   ]
  }
 ],
 "metadata": {
  "language_info": {
   "name": "python"
  }
 },
 "nbformat": 4,
 "nbformat_minor": 2
}
