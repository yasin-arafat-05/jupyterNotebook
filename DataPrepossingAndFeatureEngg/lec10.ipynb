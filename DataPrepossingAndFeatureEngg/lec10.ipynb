{
 "cells": [
  {
   "cell_type": "markdown",
   "metadata": {},
   "source": [
    "# Mising Value Imputation `By Class`\n",
    "<br>\n",
    "Now, suppose in a data set we are missing the value of Python and Java devoloper salary.\n",
    "In this process Python is a class and Java is class. Here we fill up the missing value of a python developer with the help of only python data and for java we use the information of java developer data."
   ]
  }
 ],
 "metadata": {
  "language_info": {
   "name": "python"
  }
 },
 "nbformat": 4,
 "nbformat_minor": 2
}
