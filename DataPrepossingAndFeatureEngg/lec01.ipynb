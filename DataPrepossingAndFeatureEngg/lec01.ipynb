{
 "cells": [
  {
   "cell_type": "markdown",
   "metadata": {},
   "source": [
    "# Data Preproceing and Feature Engineering\n",
    "\n",
    "### [Video Link](https://www.youtube.com/watch?v=3imSHVySLRc&list=PLfP3JxW-T70GR0w3zVzG7tgIFI14FZxaj&index=1) "
   ]
  },
  {
   "cell_type": "markdown",
   "metadata": {},
   "source": [
    "### Data Preprocessing: \n",
    "Data preprocessing is a process to convert raw data into meaningful data using different techniques.\n",
    "<br>\n",
    "\n",
    "### Why is Data Preprocessing Important\n",
    "### Data in the real World is dirty.\n",
    "- Incomplete\n",
    "- Noisy\n",
    "- Inconsistent\n",
    "- Duplicate\n",
    "<br>\n",
    "<br>\n",
    "### To train our ML algorithrm(Learn LIke A Kids) We need to convert this data into quality data. Those data have\n",
    "- Accuracy \n",
    "- Completeness\n",
    "- Consistency \n",
    "- Believability\n",
    "- Interpretability\n",
    "<br>\n",
    "### Major setps in Data Preprocessing : \n",
    "- Data Cleaning\n",
    "- Data Integration\n",
    "- Data Reduction\n",
    "- Data Transformation\n",
    "-Data Discretization\n",
    "<br>"
   ]
  },
  {
   "cell_type": "markdown",
   "metadata": {},
   "source": [
    "### What is Data Cleaning?\n",
    "\n",
    "- Data Cleaning means full in missing values, smooth out noise while identifying outliers, and corrext inconsistencies in the data."
   ]
  },
  {
   "cell_type": "code",
   "execution_count": 3,
   "metadata": {},
   "outputs": [
    {
     "name": "stdout",
     "output_type": "stream",
     "text": [
      "Original DataFrame:\n",
      "      Name   Age   Salary\n",
      "0     John  25.0  50000.0\n",
      "1    Alice  28.0  60000.0\n",
      "2      Bob   NaN  75000.0\n",
      "3    Alice  28.0      NaN\n",
      "4  Charlie  35.0  90000.0\n",
      "5    David  30.0  80000.0\n",
      "6     John  25.0  50000.0\n",
      "\n",
      "DataFrame after handling missing values:\n",
      "      Name   Age   Salary\n",
      "0     John  25.0  50000.0\n",
      "1    Alice  28.0  60000.0\n",
      "4  Charlie  35.0  90000.0\n",
      "5    David  30.0  80000.0\n",
      "6     John  25.0  50000.0\n",
      "\n",
      "DataFrame after removing duplicates:\n",
      "      Name   Age   Salary\n",
      "0     John  25.0  50000.0\n",
      "1    Alice  28.0  60000.0\n",
      "4  Charlie  35.0  90000.0\n",
      "5    David  30.0  80000.0\n"
     ]
    }
   ],
   "source": [
    "import pandas as pd\n",
    "\n",
    "# Create a sample DataFrame with missing values and duplicate rows\n",
    "data = {\n",
    "    'Name': ['John', 'Alice', 'Bob', 'Alice', 'Charlie', 'David', 'John'],\n",
    "    'Age': [25, 28, None, 28, 35, 30, 25],\n",
    "    'Salary': [50000, 60000, 75000, None, 90000, 80000, 50000]\n",
    "}\n",
    "\n",
    "df = pd.DataFrame(data)\n",
    "\n",
    "# Display the original DataFrame\n",
    "print(\"Original DataFrame:\")\n",
    "print(df)\n",
    "\n",
    "# Handling missing values\n",
    "df_cleaned = df.dropna()  # Remove rows with missing values\n",
    "\n",
    "# Display the DataFrame after handling missing values\n",
    "print(\"\\nDataFrame after handling missing values:\")\n",
    "print(df_cleaned)\n",
    "\n",
    "# Remove duplicate rows\n",
    "df_cleaned = df_cleaned.drop_duplicates()\n",
    "\n",
    "# Display the DataFrame after removing duplicates\n",
    "print(\"\\nDataFrame after removing duplicates:\")\n",
    "print(df_cleaned)\n"
   ]
  },
  {
   "cell_type": "markdown",
   "metadata": {},
   "source": [
    "### What is Data Integration?\n",
    "- Data Integration is a technique to merges data from multiple sources \n",
    "into a coherent data store, such as a data warehouse.\n",
    "\n",
    "![Data Integration Example:!](assets/Data_integration.png)"
   ]
  },
  {
   "cell_type": "markdown",
   "metadata": {},
   "source": [
    "\n",
    "\n",
    "### What is Data Reduction?\n",
    "- Data Reduction is a technique use to reduce the data size by aggregating, eliminating redundant features, or clustering, for instace.\n",
    "\n",
    "![data Reduction!](assets/data_reduction.jpg)"
   ]
  },
  {
   "cell_type": "markdown",
   "metadata": {},
   "source": [
    "### Difference between **Data Integration** and **Data Reduction**\n",
    "**Data Integration** and **Data Reduction** are two different concepts in the field of data management and analysis:\n",
    "\n",
    "1. **Data Integration:**\n",
    "   - **Definition:** Data integration is the process of combining data from different sources into a unified view. It involves merging data from disparate sources to provide a more comprehensive and cohesive understanding of the information.\n",
    "   \n",
    "<br>\n",
    "\n",
    "2. **Data Reduction:**\n",
    "   - **Definition:** Data reduction is the process of reducing the volume but producing the same or similar analytical results. It involves simplifying complex data sets while retaining the inherent information and characteristics needed for analysis.<br>\n",
    "\n",
    "   - **Purpose:** The primary purpose of data reduction is to reduce the size or complexity of a dataset without significantly sacrificing its analytical value. This is often done to improve efficiency in data storage, processing, and analysis, especially when dealing with large datasets.\n",
    "   \n",
    "\n",
    "In summary, data integration is about combining data from different sources into a unified view, whereas data reduction is about reducing the size or complexity of a dataset while preserving its analytical value."
   ]
  },
  {
   "cell_type": "markdown",
   "metadata": {},
   "source": [
    "### What is Data Transformation?\n",
    "\n",
    "- Data Transformation means data are Transformed or consolidated into forms appropritate for ML model traning such as normilization may be applied where data are scaled to fall within a smaller range like 0.0 to 1.0.\n",
    "\n",
    "- Aggregation\n",
    "- Feature type conversion\n",
    "- Normalization\n",
    "- Attribute/feature construction\n",
    "\n"
   ]
  },
  {
   "cell_type": "markdown",
   "metadata": {},
   "source": [
    "![image!](/assets/data_discretization.jpg)\n",
    "<br>\n",
    "### Prerequisite\n",
    "\n",
    "![Prerequisite!](/assets/requirement.jpg)"
   ]
  }
 ],
 "metadata": {
  "kernelspec": {
   "display_name": "Python 3",
   "language": "python",
   "name": "python3"
  },
  "language_info": {
   "codemirror_mode": {
    "name": "ipython",
    "version": 3
   },
   "file_extension": ".py",
   "mimetype": "text/x-python",
   "name": "python",
   "nbconvert_exporter": "python",
   "pygments_lexer": "ipython3",
   "version": "3.11.6"
  }
 },
 "nbformat": 4,
 "nbformat_minor": 2
}
