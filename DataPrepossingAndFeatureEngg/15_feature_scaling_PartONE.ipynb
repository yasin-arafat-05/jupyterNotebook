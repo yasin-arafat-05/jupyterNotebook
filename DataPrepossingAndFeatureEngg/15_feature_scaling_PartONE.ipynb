{
 "cells": [
  {
   "cell_type": "markdown",
   "metadata": {},
   "source": [
    "---\n",
    "\n",
    "# Feature scaling:\n",
    "\n",
    "---\n",
    "\n",
    "[video_Link](https://youtu.be/85je4aCdYcE?feature=shared)\n",
    "\n",
    "\n",
    "<br>\n",
    "\n",
    "## What is feature?\n",
    "\n",
    "`In machine learning, a feature (also known as an attribute or predictor) refers to an individual measurable property or characteristic of the data that is used as input for the machine learning model. Features are essentially the variables or columns in the dataset that contain relevant information about the observations or instances being studied.`\n",
    "\n",
    "![Alt text](image.png)\n",
    "\n",
    "ছবিতে male height in feet, female heigt in feet and life span in year এই ৩ টা হচ্ছে ৩ টা feature । \n",
    "\n",
    "**Scale:** Scale হচ্ছে (lowest value ~ column এর height value) । \n",
    "\n",
    "- In **male height in feet** column scale হচ্ছে (0 ~ 8.5) । \n",
    "- In **female height in feet** column এর scale হচ্ছে (0 ~ 170) । \n",
    "- In **Life span in year** column এর scale হচ্ছে (0 ~ 41) । \n",
    "\n",
    "# What is feature scaling?\n",
    "\n",
    "![Alt text](image-1.png)\n",
    "\n",
    "- **Feature scaling** হচ্ছে একটা method যার মাধ্যমে আমরা numerical feature কে scale করে (0-1) বা (-1~1) এ নিয়ে যায় । আগের উপরের ছবিতে numerical feature গুলোর unit আলাদা আলাদা ছিল(feet,year) । \n",
    "\n",
    "- এইটা data preprocessing এর last step । \n",
    "\n",
    "- আমরা feature scaling independent variable এর উপর apply করি । \n",
    "\n",
    "- আর আমরা feature scaling train data এর উপর apply করি । আর train and test data এর উপর আমরা যেই feature scaling করলাম সেইটা apply করবো বা feature transform করবো। \n",
    "\n",
    "# Why feature scaling?\n",
    "\n",
    "- আমাদের machine learning মডেল কোন feature এর unit বুঝতে পারে না । তারা শুধু numerical value বুঝতে পারে তাই আমাদের সব feature গুলোর value একই range এর মধ্যে থাকলে এরা ভালো output দিতে পারবে । \n",
    "\n",
    "![Alt text](image-2.png)\n",
    "\n",
    "- আমাদের সকল machine learning algorithm কে scaling করা ডাটা দিতে হয় না । কিছু কিছু algorithm আছে তাদের কে শুধুই feature scaling করা ডাটা দিতে হয় । \n",
    "\n",
    "![Alt text](image-3.png)\n",
    "\n",
    "`ছবিতে যেইসব ml algorithrm আছে তাদের সবাই কে feature scaling করা ডাটা হয় । `\n",
    "\n",
    "# Type of feature scaling:\n",
    "\n",
    "![Alt text](image-4.png)\n",
    "\n",
    "**আমরা maximum Standard Scaler and Min Max Scaler এই দুইটা feature scaling  সবচেয়ে বেশি ব্যবহার করি ।**\n",
    "\n"
   ]
  }
 ],
 "metadata": {
  "kernelspec": {
   "display_name": "Python 3",
   "language": "python",
   "name": "python3"
  },
  "language_info": {
   "name": "python",
   "version": "3.11.8"
  }
 },
 "nbformat": 4,
 "nbformat_minor": 2
}
