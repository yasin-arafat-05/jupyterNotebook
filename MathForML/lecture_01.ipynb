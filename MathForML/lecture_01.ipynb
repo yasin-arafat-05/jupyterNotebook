{
 "cells": [
  {
   "cell_type": "markdown",
   "metadata": {},
   "source": [
    "\n",
    "<br> <br>\n",
    "\n",
    "# Lecture_01:\n",
    "<br>\n",
    "\n",
    "#### Video Link:  [link](https://www.youtube.com/watch?v=Uv3Blie7F3g&list=PLKnIA16_RmvbYFaaeLY28cWeqV-3vADST&index=2&ab_channel=CampusX)\n",
    "\n",
    "<br>\n",
    "\n",
    "#### PDF: [link]()\n",
    "\n",
    "<br> <br>"
   ]
  }
 ],
 "metadata": {
  "kernelspec": {
   "display_name": "Python 3",
   "language": "python",
   "name": "python3"
  },
  "language_info": {
   "name": "python",
   "version": "3.11.7"
  }
 },
 "nbformat": 4,
 "nbformat_minor": 2
}
